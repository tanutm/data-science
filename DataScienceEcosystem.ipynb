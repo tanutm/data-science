{
 "cells": [
  {
   "cell_type": "markdown",
   "id": "d2e333cd-0184-4398-91c8-8984f82d826f",
   "metadata": {},
   "source": [
    "# Data Science Tools and Ecosystem"
   ]
  },
  {
   "cell_type": "markdown",
   "id": "4b11a522-cd9c-42b2-8a5f-17523f17edf7",
   "metadata": {},
   "source": [
    "In this notebook, Data Science Tools and Ecosystem are summarized."
   ]
  },
  {
   "cell_type": "markdown",
   "id": "a2e89875-de01-4490-b912-dd046949fa02",
   "metadata": {},
   "source": [
    "Some of the popular languages that Data Scientists use are:\n",
    "1. Python\n",
    "2. R\n",
    "3. Julia\n",
    "4. SQL\n",
    "5. Scala"
   ]
  },
  {
   "cell_type": "markdown",
   "id": "87c865c3-2772-46a0-ada3-d120b3917c8b",
   "metadata": {
    "tags": []
   },
   "source": [
    "Some of the commonly used libraries used by Data Scientists include:\n",
    "1. NumPy\n",
    "2. Pandas\n",
    "3. Matplotlib\n",
    "4. Seaborn\n",
    "5. Scikit-learn"
   ]
  },
  {
   "cell_type": "markdown",
   "id": "00fe208c-20e3-42d6-829f-c972b331be83",
   "metadata": {},
   "source": [
    "| Data Science Tools    |\n",
    "|-----------------------|\n",
    "| Jupyter Notebook      |\n",
    "| RStudio               |\n",
    "| VS Code with Python   |"
   ]
  },
  {
   "cell_type": "markdown",
   "id": "890da42c-57dd-4c18-b3d4-04d0664de1ff",
   "metadata": {},
   "source": [
    "### Below are a few examples of evaluating arithmetic expressions in Python"
   ]
  },
  {
   "cell_type": "code",
   "execution_count": 3,
   "id": "3157eb68-cbd1-4503-accd-9276c38bd1b6",
   "metadata": {
    "tags": []
   },
   "outputs": [
    {
     "data": {
      "text/plain": [
       "17"
      ]
     },
     "execution_count": 3,
     "metadata": {},
     "output_type": "execute_result"
    }
   ],
   "source": [
    "#This a simple arithmetic expression to mutiply then add integers\n",
    "(3*4)+5"
   ]
  },
  {
   "cell_type": "code",
   "execution_count": 4,
   "id": "49f51168-be9f-4474-9493-d3453e9f5f1a",
   "metadata": {
    "tags": []
   },
   "outputs": [
    {
     "data": {
      "text/plain": [
       "3.3333333333333335"
      ]
     },
     "execution_count": 4,
     "metadata": {},
     "output_type": "execute_result"
    }
   ],
   "source": [
    "#This will convert 200 minutes to hours by diving by 60\n",
    "200/60"
   ]
  },
  {
   "cell_type": "markdown",
   "id": "0c4444ce-3ea4-4884-972d-ae4a0fabfe4a",
   "metadata": {},
   "source": [
    "**Objectives:**\n",
    "- Understand data science languages and libraries.\n",
    "- Practice arithmetic expressions in programming.\n",
    "- Explore data science tools and their applications.\n"
   ]
  },
  {
   "cell_type": "markdown",
   "id": "01c1c02f-4d90-4c31-925f-5eca26c46ac9",
   "metadata": {},
   "source": [
    "## Author\n",
    "Tripti Mandal"
   ]
  },
  {
   "cell_type": "code",
   "execution_count": null,
   "id": "789cc2d8-1469-4c49-8265-2ab7f92aca5b",
   "metadata": {},
   "outputs": [],
   "source": []
  }
 ],
 "metadata": {
  "kernelspec": {
   "display_name": "Python",
   "language": "python",
   "name": "conda-env-python-py"
  },
  "language_info": {
   "codemirror_mode": {
    "name": "ipython",
    "version": 3
   },
   "file_extension": ".py",
   "mimetype": "text/x-python",
   "name": "python",
   "nbconvert_exporter": "python",
   "pygments_lexer": "ipython3",
   "version": "3.7.12"
  }
 },
 "nbformat": 4,
 "nbformat_minor": 5
}
